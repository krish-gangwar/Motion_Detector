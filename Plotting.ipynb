{
 "cells": [
  {
   "cell_type": "code",
   "execution_count": 1,
   "metadata": {},
   "outputs": [
    {
     "name": "stdout",
     "output_type": "stream",
     "text": [
      "[1, 1]\n",
      "[datetime.datetime(2019, 7, 27, 4, 43, 13, 384461), datetime.datetime(2019, 7, 27, 4, 43, 14, 347556), datetime.datetime(2019, 7, 27, 4, 43, 14, 757344), datetime.datetime(2019, 7, 27, 4, 43, 16, 475031), datetime.datetime(2019, 7, 27, 4, 43, 16, 691641), datetime.datetime(2019, 7, 27, 4, 43, 16, 998254), datetime.datetime(2019, 7, 27, 4, 43, 17, 93005), datetime.datetime(2019, 7, 27, 4, 43, 21, 14534)]\n"
     ]
    }
   ],
   "source": [
    #Created by: ****** Krish Gangwar ******
    "from motion_detector import df\n",
    "from bokeh.plotting import figure, show, output_file\n",
    "from bokeh.models import HoverTool, ColumnDataSource\n",
    "\n",
    "df[\"Start_string\"]=df[\"Start\"].dt.strftime(\"%Y-%m-%d %H:%M:%S\")\n",
    "df[\"End_string\"]=df[\"End\"].dt.strftime(\"%Y-%m-%d %H:%M:%S\")\n",
    "\n",
    "\n",
    "cds=ColumnDataSource(df)\n",
    "\n",
    "p=figure(x_axis_type='datetime',height=100, width=500, sizing_mode = \"scale_width\", title=\"Motion Graph\")\n",
    "p.yaxis.minor_tick_line_color=None\n",
    "p.ygrid[0].ticker.desired_num_ticks=1\n",
    "\n",
    "hover=HoverTool(tooltips=[(\"Start\",\"@Start_string\"),(\"End\",\"@End_string\")])\n",
    "p.add_tools(hover)\n",
    "\n",
    "q=p.quad(left=\"Start\",right=\"End\",bottom=0,top=1,color=\"green\",source=cds)\n",
    "\n",
    "output_file(\"Graph1.html\")\n",
    "show(p)"
   ]
  },
  {
   "cell_type": "code",
   "execution_count": null,
   "metadata": {},
   "outputs": [],
   "source": []
  }
 ],
 "metadata": {
  "kernelspec": {
   "display_name": "Python 3",
   "language": "python",
   "name": "python3"
  },
  "language_info": {
   "codemirror_mode": {
    "name": "ipython",
    "version": 3
   },
   "file_extension": ".py",
   "mimetype": "text/x-python",
   "name": "python",
   "nbconvert_exporter": "python",
   "pygments_lexer": "ipython3",
   "version": "3.7.3"
  }
 },
 "nbformat": 4,
 "nbformat_minor": 2
}
